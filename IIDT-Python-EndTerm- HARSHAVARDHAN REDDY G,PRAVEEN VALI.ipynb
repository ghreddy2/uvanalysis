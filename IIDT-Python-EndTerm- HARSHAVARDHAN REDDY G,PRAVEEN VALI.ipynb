{
 "cells": [
  {
   "cell_type": "code",
   "execution_count": 36,
   "metadata": {},
   "outputs": [],
   "source": [
    "def pth(term):                       #define the function with name as pth\n",
    "    import numpy as np                #import packages\n",
    "    import pandas as pd\n",
    "    import matplotlib.pyplot as plt   \n",
    "    term=pd.read_csv(term)             #in this we are reading user defined term or dataset\n",
    "    ctl=[]\n",
    "    for i in range(len(term.columns)):    \n",
    "        if term.dtypes[i]==\"object\":       \n",
    "            ctl.append(i)\n",
    "    num=list(set(term)-set(term.columns[ctl])) \n",
    "    for i in range(0,len(num)):\n",
    "        var=num[i]\n",
    "        term.boxplot(column=num[i],figsize=(9,7),grid=False)   #plotting the box plot diagram for the user defined columns\n",
    "        plt.savefig(num[i]+'-box.png')                    #saving the boxplot plotting figures in the current working directory folder\n",
    "        plt.xlabel(i,fontsize=14)\n",
    "        plt.ylabel(\"count\",fontsize=14)\n",
    "        plt.close()\n",
    "        \n",
    "        term.hist(column=num[i],figsize=(9,7),grid=False)       #plotting the histogram diagram for the numerical variables\n",
    "        plt.savefig(num[i]+'-hist.png')                   #saving the boxplot plotting figures in the current working directory\n",
    "        plt.xlabel(i,fontsize=14)\n",
    "        plt.ylabel(\"count\",fontsize=14)\n",
    "        var = num[i]\n",
    "        plt.close()"
   ]
  },
  {
   "cell_type": "code",
   "execution_count": 45,
   "metadata": {},
   "outputs": [],
   "source": [
    "#pth('whiskey.csv')     #plotting the output of the term  function with a dataset file named whiskey"
   ]
  },
  {
   "cell_type": "code",
   "execution_count": 43,
   "metadata": {},
   "outputs": [],
   "source": [
    "def pth2(term,columns=[]):              #defining the function name as pth2\n",
    "    import pandas as pd                  #importing the packages\n",
    "    import matplotlib.pyplot as plt\n",
    "    term=pd.read_csv(term)              #reading the user defined as term or datset\n",
    "    if len(columns)==0:                 #checking for the length of the columns\n",
    "        columns=list(term)              #if the length of the columns return 0 then we will store the list of the user define term\n",
    "    for i in columns:\n",
    "        term.boxplot(column=i,figsize=(9,7),grid=False)\n",
    "        plt.savefig(str(i)+'-box.png')   #box plot for user defined columns\n",
    "        plt.xlabel(str(i),fontsize=14)\n",
    "        plt.ylabel(\"count\",fontsize=14)\n",
    "        \n",
    "        plt.close()                      #saving the histogram figures in the current working directory folder\n",
    "                                          \n",
    "        term.hist(column=i,figsize=(9,7),grid=False)\n",
    "        plt.savefig(str(i)+'-hist.png') #plotting the histogram file for the user defined columns\n",
    "        plt.xlabel(str(i),fontsize=14)  #saving the histogram figures in the current working directory\n",
    "        plt.ylabel(\"count\",fontsize=14)\n",
    "        plt.close()\n",
    "                                        "
   ]
  },
  {
   "cell_type": "code",
   "execution_count": 46,
   "metadata": {},
   "outputs": [],
   "source": [
    "#pth2(\"whiskey.csv\",['Ballantine'])   #plotting the output of the term function with a dataset file named whiskey"
   ]
  },
  {
   "cell_type": "code",
   "execution_count": 31,
   "metadata": {},
   "outputs": [],
   "source": [
    "def pth3(term,columns=[]):     #define the function with name as pth3 with argumented named the datset file name and optional arguments as columns\n",
    "    import pandas as pd   # in this we are reading the user defined file or dataset\n",
    "    import matplotlib.pyplot as plt#checking the condition for the columns\n",
    "    term=pd.read_csv(term)   #if the length of the columns returns 0 then we store the list of the user defined dataset\n",
    "    if (columns==[]):       #we are intializing the numerical variable array and categorical variable array\n",
    "        columns=list(term.columns)#this condition says that if the column dataset is object and the length\n",
    "    num_var=[]              #unique values of the that column is less than 30 then we append it to categorical variable\n",
    "    ctl_var=[]             \n",
    "    for i in columns:\n",
    "        if(term[i].dtypes==\"object\") | (len(term[i].unique())<30):\n",
    "            ctl_var.append(i)\n",
    "        else:                       #else we append it to numerical variable array\n",
    "            num_var.append(i)\n",
    "        for i in num_var:\n",
    "            term.boxplot(column=i,figsize=(9,7),grid=False)    #plotting the boxplot for user defined functions\n",
    "            plt.xlabel(i,fontsize=14)\n",
    "            plt.ylabel(\"count\",fontsize=14)\n",
    "            plt.savefig(str(i)+'-box.png')                     #saving the boxplot figures in the current working directory folder\n",
    "            plt.close()\n",
    "        for i in num_var:          \n",
    "            term.hist(column=i,figsize=(9,7),grid=False)      #plotting the histogram for user defined functions\n",
    "            plt.xlabel(i,fontsize=14)\n",
    "            plt.ylabel(\"count\",fontsize=14)\n",
    "            plt.savefig(str(i)+'-hist.png')                   #saving the histogram figures in the current working directory\n",
    "            \n",
    "            plt.close()\n",
    "        for i in ctl_var:   \n",
    "            term[i].value_counts().plot(kind=\"bar\",figsize=(9,7),fontsize=15,color=\"pink\")\n",
    "            plt.xlabel(i,fontsize=14)\n",
    "            plt.ylabel(\"count\",fontsize=14)\n",
    "            plt.savefig(str(i)+'-bar.png')                     #plotting bar graph for user categorical variables\n",
    "            plt.close()                                        #saving the bar graphs in the current working directory"
   ]
  },
  {
   "cell_type": "code",
   "execution_count": 81,
   "metadata": {},
   "outputs": [],
   "source": [
    "def pth4(file,dir_name,columns=[]):\n",
    "    import pandas as pd\n",
    "    import matplotlib.pyplot as plt\n",
    "    import os\n",
    "    file = pd.read_csv(file)\n",
    "    categorical=[]\n",
    "    numerical=[]\n",
    "    if(columns==[]):\n",
    "        columns = list(file.columns)\n",
    "    for i in columns:\n",
    "        if(file[i].dtype==\"object\")| (len(file[i].unique())<=30):\n",
    "            categorical.append(i)\n",
    "        else:\n",
    "            numerical.append(i)\n",
    "    import os\n",
    "    os.mkdir(dir_name)\n",
    "    os.chdir(dir_name)\n",
    "    for i in numerical:\n",
    "        file.hist(column=i,figsize=(8,6))\n",
    "        plt.savefig(str(i)+'-hist.png')\n",
    "        plt.xlabel(i,fontsize=14)\n",
    "        plt.ylabel(\"count\",fontsize=14)\n",
    "        plt.close()\n",
    "        file.boxplot(column=i,figsize=(8,6),fontsize=12)\n",
    "        plt.savefig(str(i)+'-box.png')\n",
    "        plt.xlabel(i,fontsize=14)\n",
    "        plt.ylabel(\"count\",fontsize=14)\n",
    "        plt.close()\n",
    "    for i in categorical:\n",
    "        file[i].value_counts().plot(kind='bar',figsize=(8,6),fontsize=12)\n",
    "        plt.savefig(str(i)+'-bar.png')\n",
    "        plt.xlabel(i,fontsize=14)\n",
    "        plt.ylabel(\"count\",fontsize=14)\n",
    "        plt.close()\n",
    "    os.chdir(r'C:\\Users\\vali\\Documents\\python')"
   ]
  },
  {
   "cell_type": "code",
   "execution_count": null,
   "metadata": {},
   "outputs": [],
   "source": []
  }
 ],
 "metadata": {
  "kernelspec": {
   "display_name": "Python 3",
   "language": "python",
   "name": "python3"
  },
  "language_info": {
   "codemirror_mode": {
    "name": "ipython",
    "version": 3
   },
   "file_extension": ".py",
   "mimetype": "text/x-python",
   "name": "python",
   "nbconvert_exporter": "python",
   "pygments_lexer": "ipython3",
   "version": "3.6.5"
  }
 },
 "nbformat": 4,
 "nbformat_minor": 2
}
